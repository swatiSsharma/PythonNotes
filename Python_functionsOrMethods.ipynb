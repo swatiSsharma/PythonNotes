{
 "cells": [
  {
   "cell_type": "markdown",
   "metadata": {},
   "source": [
    "# Python Functions or Methods\n",
    "\n",
    "Functions are used for modularity - dividing the code in small modules, so that can be resuable\n",
    "\n",
    "\n",
    "**Redundancy Disadvantages :**\n",
    " - Increase the file size\n",
    " - longer code\n",
    " - Changes if required needs to be done at any place where the code is written\n",
    " \n",
    " \n",
    " \n",
    " - a function is a block of code which only runs when it is called\n",
    " - in python a function is defined with keyword \"def\"\n",
    " - can accepts any number of arguments og any data type\n",
    " - functions can optionally return data as well. This data may also be of any type. You can return more than one value as well\n",
    " - Arguments can have  default values as well\n",
    " - while calling functions, the user may define arguments as keyword pairs"
   ]
  },
  {
   "cell_type": "code",
   "execution_count": 1,
   "metadata": {},
   "outputs": [
    {
     "name": "stdout",
     "output_type": "stream",
     "text": [
      "Not a part of any function\n"
     ]
    }
   ],
   "source": [
    "def tea():\n",
    "    print('Boil water, add tea leaves and when it boils add milk')\n",
    "    \n",
    "def coffee():\n",
    "    print('boil milk add sugar and coffee, garnish with cocoa powder')\n",
    "\n",
    "print(\"Not a part of any function\")"
   ]
  },
  {
   "cell_type": "code",
   "execution_count": 2,
   "metadata": {},
   "outputs": [
    {
     "name": "stdout",
     "output_type": "stream",
     "text": [
      "simple function call\n",
      "Boil water, add tea leaves and when it boils add milk\n",
      "called using for loop\n",
      "Boil water, add tea leaves and when it boils add milk\n",
      "Boil water, add tea leaves and when it boils add milk\n",
      "Boil water, add tea leaves and when it boils add milk\n",
      "Boil water, add tea leaves and when it boils add milk\n",
      "Boil water, add tea leaves and when it boils add milk\n",
      "\n",
      "simple function call\n",
      "boil milk add sugar and coffee, garnish with cocoa powder\n",
      "called using for loop\n",
      "boil milk add sugar and coffee, garnish with cocoa powder\n",
      "boil milk add sugar and coffee, garnish with cocoa powder\n",
      "boil milk add sugar and coffee, garnish with cocoa powder\n",
      "boil milk add sugar and coffee, garnish with cocoa powder\n",
      "boil milk add sugar and coffee, garnish with cocoa powder\n"
     ]
    }
   ],
   "source": [
    "def tea():\n",
    "    print('Boil water, add tea leaves and when it boils add milk')\n",
    "    \n",
    "def coffee():\n",
    "    print('boil milk add sugar and coffee, garnish with cocoa powder')\n",
    "\n",
    "# Calling a function \n",
    "\n",
    "print(\"simple function call\")\n",
    "tea()\n",
    "print(\"called using for loop\")\n",
    "for i in range(5):\n",
    "    tea()\n",
    "    \n",
    "print()\n",
    "print(\"simple function call\")\n",
    "coffee()\n",
    "print(\"called using for loop\")\n",
    "for i in range(5):\n",
    "    coffee()"
   ]
  },
  {
   "cell_type": "markdown",
   "metadata": {},
   "source": [
    "### Write a function to say Hello with their name\n"
   ]
  },
  {
   "cell_type": "code",
   "execution_count": 3,
   "metadata": {},
   "outputs": [
    {
     "name": "stdout",
     "output_type": "stream",
     "text": [
      "Enter your name: Bruce Wayne\n",
      "Hello, Bruce Wayne\n",
      "Enter your name: Tom Henry\n",
      "Hello, Tom Henry\n",
      "Enter your name: Des Cann\n",
      "Hello, Des Cann\n",
      "Enter your name: Gorge Morphy\n",
      "Hello, Gorge Morphy\n",
      "Enter your name: Harry Payne\n",
      "Hello, Harry Payne\n"
     ]
    }
   ],
   "source": [
    "def greet(n):\n",
    "    print(\"Hello,\", n)\n",
    "\n",
    "for i in range(5):\n",
    "    n = input(\"Enter your name: \")\n",
    "    greet(n)"
   ]
  },
  {
   "cell_type": "code",
   "execution_count": 4,
   "metadata": {},
   "outputs": [
    {
     "name": "stdout",
     "output_type": "stream",
     "text": [
      "<class 'function'>\n"
     ]
    }
   ],
   "source": [
    "# type of function name\n",
    "\n",
    "print(type(greet))"
   ]
  },
  {
   "cell_type": "markdown",
   "metadata": {},
   "source": [
    "### Write a function to say Hello with their name, if no user input say Hello User."
   ]
  },
  {
   "cell_type": "code",
   "execution_count": 5,
   "metadata": {},
   "outputs": [
    {
     "name": "stdout",
     "output_type": "stream",
     "text": [
      "Hello, Harry Payne\n",
      "Enter your name: Martin Payne\n",
      "Hello, Martin Payne\n",
      "Enter your name: Phil Bartle\n",
      "Hello, Phil Bartle\n"
     ]
    }
   ],
   "source": [
    "def greet(n = \"User\"):\n",
    "    print(\"Hello,\", n)\n",
    "\n",
    "greet(n)\n",
    "\n",
    "for i in range(2):\n",
    "    n = input(\"Enter your name: \")\n",
    "    greet(n)"
   ]
  },
  {
   "cell_type": "code",
   "execution_count": 6,
   "metadata": {},
   "outputs": [
    {
     "name": "stdout",
     "output_type": "stream",
     "text": [
      "Hero named, Spiderman at age 20 was fighting all these villians : ['Vulture', 'Veaon', 'Electro']\n",
      "\n",
      "Hero named, Superman at age 25 was fighting all these villians : ['Thanos', 'Ultron']\n",
      "\n",
      "Hero named, Hulk at age 16 was fighting all these villians : ['Thanos', 'Ultron']\n"
     ]
    }
   ],
   "source": [
    "def fight(name = \"Hulk\", age = 16, villian = ['Thanos',\"Ultron\"]):\n",
    "    print(\"Hero named,\", name, \"at age\", age,\"was fighting all these villians :\", villian)\n",
    "    \n",
    "fight(\"Spiderman\", 20, [\"Vulture\",'Veaon',\"Electro\"])\n",
    "\n",
    "print()\n",
    "\n",
    "fight('Superman', 25)\n",
    "\n",
    "print()\n",
    "\n",
    "fight()\n"
   ]
  },
  {
   "cell_type": "markdown",
   "metadata": {},
   "source": [
    "# Returning data from a function\n",
    "\n",
    "- return is a keyword\n",
    "- used to exit out of function and gives the value at the function call\n",
    "- we can return as many values as we want\n",
    "- if return is missed in a fuction by default None is given "
   ]
  },
  {
   "cell_type": "markdown",
   "metadata": {},
   "source": [
    "### Write a function to get the cube of a number"
   ]
  },
  {
   "cell_type": "code",
   "execution_count": 7,
   "metadata": {},
   "outputs": [
    {
     "data": {
      "text/plain": [
       "343"
      ]
     },
     "execution_count": 7,
     "metadata": {},
     "output_type": "execute_result"
    }
   ],
   "source": [
    "def cube(x):\n",
    "    return x ** 3\n",
    "\n",
    "cube(7)"
   ]
  },
  {
   "cell_type": "markdown",
   "metadata": {},
   "source": [
    "### Compute the cube of x and store it in y"
   ]
  },
  {
   "cell_type": "code",
   "execution_count": 8,
   "metadata": {},
   "outputs": [],
   "source": [
    "x = 5\n",
    "# implicit function call\n",
    "y = cube(x)"
   ]
  },
  {
   "cell_type": "code",
   "execution_count": 9,
   "metadata": {},
   "outputs": [
    {
     "name": "stdout",
     "output_type": "stream",
     "text": [
      "125\n"
     ]
    }
   ],
   "source": [
    "print(y)"
   ]
  },
  {
   "cell_type": "code",
   "execution_count": 10,
   "metadata": {},
   "outputs": [
    {
     "name": "stdout",
     "output_type": "stream",
     "text": [
      "5 cube + 3 cube is : 250\n"
     ]
    }
   ],
   "source": [
    "print(\"5 cube + 3 cube is :\", cube(x) + y)"
   ]
  },
  {
   "cell_type": "markdown",
   "metadata": {},
   "source": [
    "### Returning multiple values through single return statement"
   ]
  },
  {
   "cell_type": "code",
   "execution_count": 11,
   "metadata": {},
   "outputs": [
    {
     "name": "stdout",
     "output_type": "stream",
     "text": [
      "Name : peter parker\n",
      "Age : 20\n",
      "Actor : tom holland\n"
     ]
    }
   ],
   "source": [
    "def spiderman():\n",
    "    return \"peter parker\", 20, 'tom holland'\n",
    "\n",
    "name, age, actor = spiderman()\n",
    "\n",
    "print(\"Name :\", name)\n",
    "print(\"Age :\", age)\n",
    "print(\"Actor :\", actor)\n"
   ]
  },
  {
   "cell_type": "markdown",
   "metadata": {},
   "source": [
    "### Multiple return statement in a function\n",
    "\n",
    "The function will exit out at the first return statement"
   ]
  },
  {
   "cell_type": "code",
   "execution_count": 12,
   "metadata": {},
   "outputs": [
    {
     "name": "stdout",
     "output_type": "stream",
     "text": [
      "Name : peter parker\n",
      "Age : 20\n",
      "Actor : tom holland\n"
     ]
    }
   ],
   "source": [
    "def spiderman():\n",
    "    return \"peter parker\", 20, 'tom holland'\n",
    "    return 5, 2,3 ## redundant code, will never get executed\n",
    "\n",
    "name, age, actor = spiderman()\n",
    "\n",
    "print(\"Name :\", name)\n",
    "print(\"Age :\", age)\n",
    "print(\"Actor :\", actor)\n"
   ]
  },
  {
   "cell_type": "markdown",
   "metadata": {},
   "source": [
    "# Calling with keyword pair arguments"
   ]
  },
  {
   "cell_type": "code",
   "execution_count": 13,
   "metadata": {},
   "outputs": [
    {
     "name": "stdout",
     "output_type": "stream",
     "text": [
      "Hero named, Superman at age 50 was fighting all these villians : ['Venon', 'Electron']\n"
     ]
    }
   ],
   "source": [
    "def fight(name , age, villian):\n",
    "          print(\"Hero named,\", name, \"at age\", age,\"was fighting all these villians :\", villian)\n",
    "\n",
    "# to call function fight we have to place argument in order, but if there are N arguments it may be we could mess up order \n",
    "\n",
    "## Key word pair \n",
    "          \n",
    "fight(age = 50, villian = [\"Venon\", \"Electron\"], name = \"Superman\")\n",
    "          "
   ]
  },
  {
   "cell_type": "markdown",
   "metadata": {},
   "source": [
    "# Call Stack Memory\n",
    "\n",
    "Stack - LIFO (Last In First Out)\n",
    "\n",
    "python keep track of functions call in call stack\n",
    "\n",
    "In which it puts a frame of function and values of all variables inside the function, \n",
    "\n",
    "calling function inside function , will create another frame of that function and this will be destroyed once the excution is performed by the nested function from the call stack\n",
    "\n",
    "\n",
    "## Heap Memory -- much larger in size than the call stack memory where the objects for data, all data is stored.\n"
   ]
  },
  {
   "cell_type": "code",
   "execution_count": 14,
   "metadata": {},
   "outputs": [
    {
     "data": {
      "text/plain": [
       "6.4031242374328485"
      ]
     },
     "execution_count": 14,
     "metadata": {},
     "output_type": "execute_result"
    }
   ],
   "source": [
    "def square(x):\n",
    "    return x ** 2\n",
    "\n",
    "def pythagoras(a, b):\n",
    "    c = square(a) + square(b)\n",
    "    return c ** 0.5\n",
    "\n",
    "pythagoras(4, 5)"
   ]
  },
  {
   "cell_type": "markdown",
   "metadata": {},
   "source": [
    "# Scope of a Variable\n",
    "\n",
    "- the area where variable is accessable\n",
    "\n",
    "def pythagoras(a, b):\n",
    "    c = square(a) + square(b)\n",
    "    return c ** 0.5\n",
    "    \n",
    "scope of a and b is only limited to function pythagoras\n",
    "\n",
    "- variable declared inside function are private to function called function scope\n",
    "\n",
    "- variables anything outside have global scope\n",
    "\n",
    "- if it is declared or printed outside the function and is only defined inside function -- it gives **NameError**\n",
    "\n",
    "\n",
    "- the global x is shadowed(hidden) by local x\n",
    " \n"
   ]
  },
  {
   "cell_type": "code",
   "execution_count": 15,
   "metadata": {},
   "outputs": [
    {
     "name": "stdout",
     "output_type": "stream",
     "text": [
      "first 25\n",
      "25\n",
      "\n",
      "outside : 10\n"
     ]
    }
   ],
   "source": [
    "m = 10\n",
    "\n",
    "def square(m):\n",
    "    m = m ** 2\n",
    "    print(\"first\",m)\n",
    "    return m\n",
    "\n",
    "print(square(5))\n",
    "print()\n",
    "print(\"outside :\",m)\n"
   ]
  },
  {
   "cell_type": "code",
   "execution_count": 16,
   "metadata": {},
   "outputs": [
    {
     "name": "stdout",
     "output_type": "stream",
     "text": [
      "m = 10\n",
      "y =  5\n",
      "m = 10\n",
      "y =  5\n",
      "1.2040352252793785\n",
      "hello\n",
      "m = 10\n",
      "y =  5\n",
      "100\n",
      "y =  5\n"
     ]
    }
   ],
   "source": [
    "m = 10 \n",
    "# global scope\n",
    "# its value can be read inside any function\n",
    "\n",
    "y = 1000\n",
    "def square(x):\n",
    "    print(\"m =\",m)\n",
    "    global y\n",
    "    y = 5\n",
    "    print(\"y = \",y)\n",
    "    return x ** 2\n",
    "\n",
    "\n",
    "def pythagoras(a, b):\n",
    "    c2 = square(a) + square(b)\n",
    "    return c2** 0.05\n",
    "\n",
    "print(pythagoras(4,5))\n",
    "print(\"hello\")\n",
    "print(square(10))\n",
    "print(\"y = \", y)\n",
    "    "
   ]
  },
  {
   "cell_type": "markdown",
   "metadata": {},
   "source": [
    "# Map Function\n",
    "\n",
    "- Map function in python allows doing operations on the iterables easily (code runs on each element). \n",
    "- It also prevents damaging the original datatype, minimizes the loops from the frame, and helps in faster and smaller codes. \n",
    "- Map is simpler and more concise than using a for loop and constructing a list."
   ]
  },
  {
   "cell_type": "code",
   "execution_count": 17,
   "metadata": {},
   "outputs": [],
   "source": [
    "### Generate another list to get square of list a"
   ]
  },
  {
   "cell_type": "code",
   "execution_count": 18,
   "metadata": {},
   "outputs": [
    {
     "name": "stdout",
     "output_type": "stream",
     "text": [
      "[25, 4, 36, 81, 9]\n"
     ]
    }
   ],
   "source": [
    "# Method 1 - For loop\n",
    "def square(x):\n",
    "    return x ** 2\n",
    "b= []\n",
    "a = [5, 2, 6, 9, 3]\n",
    "\n",
    "for x in a:\n",
    "    b.append(square(x))\n",
    "    \n",
    "print(b)\n"
   ]
  },
  {
   "cell_type": "code",
   "execution_count": 19,
   "metadata": {},
   "outputs": [
    {
     "name": "stdout",
     "output_type": "stream",
     "text": [
      "[25, 4, 36, 81, 9]\n"
     ]
    }
   ],
   "source": [
    "# Method 2 : MAp - iterate over o list and call a function over all elements of iterable\n",
    "# - Faster than for loop\n",
    "#   map (Nameoffunction, nameofiterable - list, range, tuple, set dict)\n",
    "def square(x):\n",
    "    return x ** 2\n",
    "\n",
    "b = []\n",
    "a = [5, 2, 6, 9, 3]\n",
    "\n",
    "b  = list(map(square, a))\n",
    "\n",
    "print(b)\n",
    "\n"
   ]
  },
  {
   "cell_type": "markdown",
   "metadata": {},
   "source": [
    "# Lambda Function\n",
    "\n",
    "- is a small anonymous function\n",
    "- can take any number of arguments, but can only have one expression\n",
    "- must execute in single statement\n",
    "- Lambda expressions are the most used forms in the python map function, be it a single iterator, double, or triple, lambda reduces the code to a smaller extent and makes you have an edge to win the game."
   ]
  },
  {
   "cell_type": "code",
   "execution_count": 20,
   "metadata": {},
   "outputs": [
    {
     "name": "stdout",
     "output_type": "stream",
     "text": [
      "4\n",
      "8\n"
     ]
    }
   ],
   "source": [
    "def square(x):\n",
    "    return x ** 2\n",
    "\n",
    "def cube(x):\n",
    "    return x ** 3\n",
    "print(square(2))\n",
    "print(cube(2))"
   ]
  },
  {
   "cell_type": "code",
   "execution_count": 21,
   "metadata": {},
   "outputs": [
    {
     "name": "stdout",
     "output_type": "stream",
     "text": [
      "100\n"
     ]
    }
   ],
   "source": [
    "square2 = lambda x : x ** 2\n",
    "\n",
    "print(square2(10))"
   ]
  },
  {
   "cell_type": "code",
   "execution_count": 22,
   "metadata": {},
   "outputs": [
    {
     "name": "stdout",
     "output_type": "stream",
     "text": [
      "30\n"
     ]
    }
   ],
   "source": [
    "multiply = lambda a, b : a * b\n",
    "\n",
    "print(multiply(6,5))"
   ]
  },
  {
   "cell_type": "code",
   "execution_count": 23,
   "metadata": {},
   "outputs": [
    {
     "name": "stdout",
     "output_type": "stream",
     "text": [
      "lambda :  (100, 20)\n",
      "Using Function : (100, 20)\n"
     ]
    }
   ],
   "source": [
    "d = lambda b: (b**2, b+b)\n",
    "\n",
    "print(\"lambda : \",d(10))\n",
    "\n",
    "\n",
    "def d(b):\n",
    "    return b ** 2, b + b\n",
    "\n",
    "print(\"Using Function :\", d(10))"
   ]
  }
 ],
 "metadata": {
  "kernelspec": {
   "display_name": "Python 3",
   "language": "python",
   "name": "python3"
  },
  "language_info": {
   "codemirror_mode": {
    "name": "ipython",
    "version": 3
   },
   "file_extension": ".py",
   "mimetype": "text/x-python",
   "name": "python",
   "nbconvert_exporter": "python",
   "pygments_lexer": "ipython3",
   "version": "3.7.6"
  }
 },
 "nbformat": 4,
 "nbformat_minor": 4
}
