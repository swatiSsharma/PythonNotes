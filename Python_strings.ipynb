{
 "cells": [
  {
   "cell_type": "markdown",
   "metadata": {},
   "source": [
    "# Function - kwargs (Keyword Arguments)"
   ]
  },
  {
   "cell_type": "code",
   "execution_count": 1,
   "metadata": {},
   "outputs": [],
   "source": [
    "def person(name, age, profession):\n",
    "    print(name, age, profession)"
   ]
  },
  {
   "cell_type": "code",
   "execution_count": 2,
   "metadata": {},
   "outputs": [
    {
     "name": "stdout",
     "output_type": "stream",
     "text": [
      "Peter Parker 20 Photographer\n"
     ]
    }
   ],
   "source": [
    "person(\"Peter Parker\", 20, 'Photographer')"
   ]
  },
  {
   "cell_type": "markdown",
   "metadata": {},
   "source": [
    "# if we want to pass new argument to function at run time\n",
    "\n",
    "# Positional arguments comes before **kwargs\n"
   ]
  },
  {
   "cell_type": "code",
   "execution_count": 3,
   "metadata": {},
   "outputs": [],
   "source": [
    "def person1(name, age, profession, **kwargs):\n",
    "    print(name, age, profession)\n",
    "    print(kwargs)\n",
    "    print(type(kwargs))"
   ]
  },
  {
   "cell_type": "code",
   "execution_count": 4,
   "metadata": {},
   "outputs": [
    {
     "name": "stdout",
     "output_type": "stream",
     "text": [
      "Peter Parker 20 Photographer\n",
      "{'city': 'New york', 'villians': ['Venom']}\n",
      "<class 'dict'>\n"
     ]
    }
   ],
   "source": [
    "person1(\"Peter Parker\", 20, 'Photographer', city = \"New york\", villians=['Venom'])"
   ]
  },
  {
   "cell_type": "markdown",
   "metadata": {},
   "source": [
    "# Printing Args and Kwargs together\n",
    "\n",
    "Kwargs are wrapped into dictionary\n",
    "Args are wrapped into tuple\n",
    "\n",
    "Args always positioned before Kwargs"
   ]
  },
  {
   "cell_type": "code",
   "execution_count": 5,
   "metadata": {},
   "outputs": [],
   "source": [
    "def hogwarts(house1, house2, house3, house4, *args, **kwargs):\n",
    "    print(\"houses are : \",house1, house2, house3, house4)\n",
    "    print()\n",
    "    print(\"ARGS :\", args)\n",
    "    print()\n",
    "    print(\"KWARGS :\", kwargs)\n",
    "    "
   ]
  },
  {
   "cell_type": "code",
   "execution_count": 6,
   "metadata": {},
   "outputs": [
    {
     "name": "stdout",
     "output_type": "stream",
     "text": [
      "houses are :  Gryffindor Ravenclaw Hufflepuff Slytherin\n",
      "\n",
      "ARGS : ('Severus Snape', 'Horace Slughorn', 'Remus Lupin')\n",
      "\n",
      "KWARGS : {'headmaster': 'Albus Bumbledore', 'deputy_headministress': 'Minerva McGonagall'}\n"
     ]
    }
   ],
   "source": [
    "hogwarts(\n",
    "    \"Gryffindor\",\n",
    "    \"Ravenclaw\",\n",
    "    \"Hufflepuff\",\n",
    "    \"Slytherin\",\n",
    "    # Args\n",
    "    \"Severus Snape\",\n",
    "    \"Horace Slughorn\",\n",
    "    \"Remus Lupin\",\n",
    "    # KWARGS\n",
    "    headmaster = \"Albus Bumbledore\",\n",
    "    deputy_headministress= \"Minerva McGonagall\"\n",
    ")"
   ]
  },
  {
   "cell_type": "markdown",
   "metadata": {},
   "source": [
    "# Strings\n",
    "- ordered sequence of a group characters\n",
    "- all strings are immutable"
   ]
  },
  {
   "cell_type": "code",
   "execution_count": 7,
   "metadata": {},
   "outputs": [],
   "source": [
    "## Initialisation and indexing"
   ]
  },
  {
   "cell_type": "code",
   "execution_count": 8,
   "metadata": {},
   "outputs": [],
   "source": [
    "books = '''\n",
    "    Harry Potter and the Socceres Stone.\n",
    "    Harry Potter and the Chamber of Secrets.\n",
    "    Harry Potter and the Half Blood Prince.\n",
    "'''"
   ]
  },
  {
   "cell_type": "code",
   "execution_count": 9,
   "metadata": {},
   "outputs": [
    {
     "name": "stdout",
     "output_type": "stream",
     "text": [
      "\n",
      "    Harry Potter and the Socceres Stone.\n",
      "    Harry Potter and the Chamber of Secrets.\n",
      "    Harry Potter and the Half Blood Prince.\n",
      "\n"
     ]
    }
   ],
   "source": [
    "print(books)"
   ]
  },
  {
   "cell_type": "code",
   "execution_count": 10,
   "metadata": {},
   "outputs": [
    {
     "data": {
      "text/plain": [
       "'H'"
      ]
     },
     "execution_count": 10,
     "metadata": {},
     "output_type": "execute_result"
    }
   ],
   "source": [
    "books[5]"
   ]
  },
  {
   "cell_type": "code",
   "execution_count": 11,
   "metadata": {},
   "outputs": [
    {
     "name": "stdout",
     "output_type": "stream",
     "text": [
      "Hello World!\n"
     ]
    }
   ],
   "source": [
    "s = \"Hello\"\n",
    "s = \"Hello World!\"\n",
    "print(s)"
   ]
  },
  {
   "cell_type": "code",
   "execution_count": 12,
   "metadata": {},
   "outputs": [
    {
     "data": {
      "text/plain": [
       "131"
      ]
     },
     "execution_count": 12,
     "metadata": {},
     "output_type": "execute_result"
    }
   ],
   "source": [
    "# length of string\n",
    "len(books)"
   ]
  },
  {
   "cell_type": "code",
   "execution_count": 13,
   "metadata": {},
   "outputs": [
    {
     "name": "stdout",
     "output_type": "stream",
     "text": [
      "ab 2251861057584\n",
      "bb 2251869147568\n"
     ]
    }
   ],
   "source": [
    "# Immutable - cant be changed\n",
    "s = \"ab\"\n",
    "print('ab',id(s))\n",
    "s = \"bb\"\n",
    "print('bb',id(s))\n",
    "\n",
    "# Memory addresses are not same"
   ]
  },
  {
   "cell_type": "markdown",
   "metadata": {},
   "source": [
    "# Operations"
   ]
  },
  {
   "cell_type": "code",
   "execution_count": 14,
   "metadata": {},
   "outputs": [
    {
     "name": "stdout",
     "output_type": "stream",
     "text": [
      "Harry Potter\n",
      "Harry Potter The Chamber Of Secrets - 2\n"
     ]
    }
   ],
   "source": [
    "# Concatenation : +\n",
    "\n",
    "fname = 'Harry'\n",
    "Lname = 'Potter'\n",
    "\n",
    "print(fname +' '+ Lname)\n",
    "Book = \"The Chamber Of Secrets\"\n",
    "print(fname +' '+ Lname+ ' '+ Book+' - '+str(2))"
   ]
  },
  {
   "cell_type": "code",
   "execution_count": 15,
   "metadata": {},
   "outputs": [
    {
     "name": "stdout",
     "output_type": "stream",
     "text": [
      "The Chamber Of Secrets\n",
      "The Chamber Of Secrets\n",
      "The Chamber Of Secrets\n",
      "The Chamber Of Secrets\n",
      "The Chamber Of Secrets\n",
      "\n"
     ]
    }
   ],
   "source": [
    "# Repetation : *\n",
    "\n",
    "Book = \"The Chamber Of Secrets\\n\"\n",
    "print(Book * 5)"
   ]
  },
  {
   "cell_type": "code",
   "execution_count": 16,
   "metadata": {},
   "outputs": [
    {
     "name": "stdout",
     "output_type": "stream",
     "text": [
      "Hello World! Hello World! Hello World! Hello World! Hello World! \n"
     ]
    }
   ],
   "source": [
    "hello = 'Hello World! '\n",
    "print(hello * 5)"
   ]
  },
  {
   "cell_type": "code",
   "execution_count": 17,
   "metadata": {},
   "outputs": [
    {
     "name": "stdout",
     "output_type": "stream",
     "text": [
      "Yes\n"
     ]
    }
   ],
   "source": [
    "# In Operator\n",
    "\n",
    "Book = \"Harry Potter and The Chamber Of Secrets\\n\"\n",
    "\n",
    "if \"Harry\" in Book:\n",
    "    print(\"Yes\")\n",
    "else:\n",
    "    print(\"No\")"
   ]
  },
  {
   "cell_type": "code",
   "execution_count": 18,
   "metadata": {},
   "outputs": [
    {
     "data": {
      "text/plain": [
       "5"
      ]
     },
     "execution_count": 18,
     "metadata": {},
     "output_type": "execute_result"
    }
   ],
   "source": [
    "# count of string occurence\n",
    "Book.count('r')"
   ]
  },
  {
   "cell_type": "code",
   "execution_count": 19,
   "metadata": {},
   "outputs": [
    {
     "name": "stdout",
     "output_type": "stream",
     "text": [
      "13\n"
     ]
    }
   ],
   "source": [
    "# find(), index\n",
    "\n",
    "Book = \"Harry Potter and The Chamber Of Secrets\\n\"\n",
    "\n",
    "print(Book.find('and'))"
   ]
  },
  {
   "cell_type": "code",
   "execution_count": 20,
   "metadata": {},
   "outputs": [
    {
     "data": {
      "text/plain": [
       "'Python is amazing'"
      ]
     },
     "execution_count": 20,
     "metadata": {},
     "output_type": "execute_result"
    }
   ],
   "source": [
    "# replace()\n",
    "\n",
    "text = \"Python is amazing\"\n",
    "text"
   ]
  },
  {
   "cell_type": "code",
   "execution_count": 21,
   "metadata": {},
   "outputs": [
    {
     "name": "stdout",
     "output_type": "stream",
     "text": [
      "Python is amazing\n",
      "Python is Awesome\n"
     ]
    }
   ],
   "source": [
    "new_text = text.replace('amazing','Awesome')\n",
    "print(text, new_text, sep = '\\n')\n"
   ]
  },
  {
   "cell_type": "code",
   "execution_count": 22,
   "metadata": {},
   "outputs": [
    {
     "name": "stdout",
     "output_type": "stream",
     "text": [
      "Harry Potter and The Chamber Of Secrets\n",
      "\n",
      "harry potter and the chamber of secrets\n",
      "\n",
      "HARRY POTTER AND THE CHAMBER OF SECRETS\n",
      "\n",
      "harry potter and the chamber of secrets\n",
      "\n",
      "hARRY pOTTER AND tHE cHAMBER oF sECRETS\n",
      "\n"
     ]
    }
   ],
   "source": [
    "# lower() and upper() and swapcase() and casefold()\n",
    "\n",
    "Book = \"Harry Potter and The Chamber Of Secrets\\n\"\n",
    "\n",
    "print(Book, Book.lower(), Book.upper(), Book.casefold(), Book.swapcase(), sep = '\\n')\n"
   ]
  },
  {
   "cell_type": "markdown",
   "metadata": {},
   "source": [
    "# Looping over strings"
   ]
  },
  {
   "cell_type": "code",
   "execution_count": 23,
   "metadata": {},
   "outputs": [
    {
     "name": "stdout",
     "output_type": "stream",
     "text": [
      "H\n",
      "a\n",
      "r\n",
      "r\n",
      "y\n",
      " \n",
      "P\n",
      "o\n",
      "t\n",
      "t\n",
      "e\n",
      "r\n",
      " \n",
      "a\n",
      "n\n",
      "d\n",
      " \n",
      "T\n",
      "h\n",
      "e\n",
      " \n",
      "C\n",
      "h\n",
      "a\n",
      "m\n",
      "b\n",
      "e\n",
      "r\n",
      " \n",
      "O\n",
      "f\n",
      " \n",
      "S\n",
      "e\n",
      "c\n",
      "r\n",
      "e\n",
      "t\n",
      "s\n",
      "\n",
      "\n"
     ]
    }
   ],
   "source": [
    "for char in Book:\n",
    "    print(char)"
   ]
  },
  {
   "cell_type": "markdown",
   "metadata": {},
   "source": [
    "# delete a string variable"
   ]
  },
  {
   "cell_type": "code",
   "execution_count": 24,
   "metadata": {},
   "outputs": [
    {
     "ename": "NameError",
     "evalue": "name 'Book' is not defined",
     "output_type": "error",
     "traceback": [
      "\u001b[1;31m---------------------------------------------------------------------------\u001b[0m",
      "\u001b[1;31mNameError\u001b[0m                                 Traceback (most recent call last)",
      "\u001b[1;32m<ipython-input-24-e61510aba28f>\u001b[0m in \u001b[0;36m<module>\u001b[1;34m\u001b[0m\n\u001b[0;32m      1\u001b[0m \u001b[1;32mdel\u001b[0m \u001b[0mBook\u001b[0m\u001b[1;33m\u001b[0m\u001b[1;33m\u001b[0m\u001b[0m\n\u001b[0;32m      2\u001b[0m \u001b[1;33m\u001b[0m\u001b[0m\n\u001b[1;32m----> 3\u001b[1;33m \u001b[0mprint\u001b[0m\u001b[1;33m(\u001b[0m\u001b[0mBook\u001b[0m\u001b[1;33m)\u001b[0m\u001b[1;33m\u001b[0m\u001b[1;33m\u001b[0m\u001b[0m\n\u001b[0m",
      "\u001b[1;31mNameError\u001b[0m: name 'Book' is not defined"
     ]
    }
   ],
   "source": [
    "del Book\n",
    "\n",
    "print(Book)"
   ]
  },
  {
   "cell_type": "markdown",
   "metadata": {},
   "source": [
    "# ord function\n",
    "\n",
    "- only accept string of length of 1 character"
   ]
  },
  {
   "cell_type": "code",
   "execution_count": 25,
   "metadata": {},
   "outputs": [
    {
     "data": {
      "text/plain": [
       "97"
      ]
     },
     "execution_count": 25,
     "metadata": {},
     "output_type": "execute_result"
    }
   ],
   "source": [
    "ord('a') # refers to ASCII value of small a"
   ]
  },
  {
   "cell_type": "code",
   "execution_count": 26,
   "metadata": {},
   "outputs": [
    {
     "data": {
      "text/plain": [
       "65"
      ]
     },
     "execution_count": 26,
     "metadata": {},
     "output_type": "execute_result"
    }
   ],
   "source": [
    "ord('A')"
   ]
  },
  {
   "cell_type": "code",
   "execution_count": 27,
   "metadata": {},
   "outputs": [
    {
     "ename": "TypeError",
     "evalue": "ord() expected a character, but string of length 2 found",
     "output_type": "error",
     "traceback": [
      "\u001b[1;31m---------------------------------------------------------------------------\u001b[0m",
      "\u001b[1;31mTypeError\u001b[0m                                 Traceback (most recent call last)",
      "\u001b[1;32m<ipython-input-27-e516c964a0a0>\u001b[0m in \u001b[0;36m<module>\u001b[1;34m\u001b[0m\n\u001b[1;32m----> 1\u001b[1;33m \u001b[0mord\u001b[0m\u001b[1;33m(\u001b[0m\u001b[1;34m'Aa'\u001b[0m\u001b[1;33m)\u001b[0m\u001b[1;33m\u001b[0m\u001b[1;33m\u001b[0m\u001b[0m\n\u001b[0m",
      "\u001b[1;31mTypeError\u001b[0m: ord() expected a character, but string of length 2 found"
     ]
    }
   ],
   "source": [
    "ord('Aa')"
   ]
  },
  {
   "cell_type": "code",
   "execution_count": 28,
   "metadata": {},
   "outputs": [
    {
     "ename": "TypeError",
     "evalue": "ord() takes exactly one argument (2 given)",
     "output_type": "error",
     "traceback": [
      "\u001b[1;31m---------------------------------------------------------------------------\u001b[0m",
      "\u001b[1;31mTypeError\u001b[0m                                 Traceback (most recent call last)",
      "\u001b[1;32m<ipython-input-28-da2ad5c50154>\u001b[0m in \u001b[0;36m<module>\u001b[1;34m\u001b[0m\n\u001b[1;32m----> 1\u001b[1;33m \u001b[0mord\u001b[0m\u001b[1;33m(\u001b[0m\u001b[1;34m'a'\u001b[0m\u001b[1;33m,\u001b[0m\u001b[1;34m'b'\u001b[0m\u001b[1;33m)\u001b[0m\u001b[1;33m\u001b[0m\u001b[1;33m\u001b[0m\u001b[0m\n\u001b[0m",
      "\u001b[1;31mTypeError\u001b[0m: ord() takes exactly one argument (2 given)"
     ]
    }
   ],
   "source": [
    "ord('a','b')"
   ]
  },
  {
   "cell_type": "markdown",
   "metadata": {},
   "source": [
    "# chr()"
   ]
  },
  {
   "cell_type": "code",
   "execution_count": 29,
   "metadata": {},
   "outputs": [
    {
     "data": {
      "text/plain": [
       "'A'"
      ]
     },
     "execution_count": 29,
     "metadata": {},
     "output_type": "execute_result"
    }
   ],
   "source": [
    "chr(65)"
   ]
  },
  {
   "cell_type": "markdown",
   "metadata": {},
   "source": [
    " # string Slicing"
   ]
  },
  {
   "cell_type": "code",
   "execution_count": 30,
   "metadata": {},
   "outputs": [
    {
     "data": {
      "text/plain": [
       "' Wo'"
      ]
     },
     "execution_count": 30,
     "metadata": {},
     "output_type": "execute_result"
    }
   ],
   "source": [
    "s = 'Hello World!'\n",
    "s[5:8]"
   ]
  },
  {
   "cell_type": "markdown",
   "metadata": {},
   "source": [
    "# Reverse the order of words`"
   ]
  },
  {
   "cell_type": "code",
   "execution_count": 31,
   "metadata": {},
   "outputs": [
    {
     "data": {
      "text/plain": [
       "list"
      ]
     },
     "execution_count": 31,
     "metadata": {},
     "output_type": "execute_result"
    }
   ],
   "source": [
    "book = \"Harry Potter and The Chamber Of Secrets\"\n",
    "l = book.split()\n",
    "type(l)"
   ]
  },
  {
   "cell_type": "code",
   "execution_count": 32,
   "metadata": {},
   "outputs": [
    {
     "data": {
      "text/plain": [
       "'Harry**Potter**and**The**Chamber**Of**Secrets'"
      ]
     },
     "execution_count": 32,
     "metadata": {},
     "output_type": "execute_result"
    }
   ],
   "source": [
    "s = \"**\".join(l)\n",
    "s"
   ]
  },
  {
   "cell_type": "code",
   "execution_count": 33,
   "metadata": {},
   "outputs": [
    {
     "name": "stdout",
     "output_type": "stream",
     "text": [
      "Harry Potter and The Chamber Of Secrets\n",
      "yrraH rettoP dna ehT rebmahC fO sterceS "
     ]
    }
   ],
   "source": [
    "print(\" \".join(l))\n",
    "for i in range(len(l)):\n",
    "    s = l[i][::-1]\n",
    "    print(s,end = ' ')\n"
   ]
  },
  {
   "cell_type": "code",
   "execution_count": 34,
   "metadata": {},
   "outputs": [
    {
     "name": "stdout",
     "output_type": "stream",
     "text": [
      "Generate a string that say I have 4 apples, 10 oranges and 5 guavas\n",
      "I have 4 apples, 10 oranges and 5 guavas.\n",
      "I have 4 apples, 10 oranges and 5 guavas.\n"
     ]
    }
   ],
   "source": [
    "# format string\n",
    "\n",
    "apple_count = 4\n",
    "orange_count = 10\n",
    "guava_count = 5\n",
    "\n",
    "print(\"Generate a string that say I have 4 apples, 10 oranges and 5 guavas\")\n",
    "\n",
    "print(\"I have {} apples, {} oranges and {} guavas.\".format( apple_count, orange_count, guava_count))\n",
    "\n",
    "print(f\"I have {apple_count} apples, {orange_count} oranges and {guava_count} guavas.\" )"
   ]
  },
  {
   "cell_type": "markdown",
   "metadata": {},
   "source": [
    "# DocSTRING\n",
    "\n",
    "- short description of the function\n",
    "- should be defined at the start of function only\n",
    "- can be of any length\n",
    "- valid for functions and classes"
   ]
  },
  {
   "cell_type": "code",
   "execution_count": 35,
   "metadata": {},
   "outputs": [],
   "source": [
    "def square(x):\n",
    "    '''\n",
    "    This function returns the square of a number\n",
    "    '''\n",
    "    return x ** 2"
   ]
  }
 ],
 "metadata": {
  "kernelspec": {
   "display_name": "Python 3",
   "language": "python",
   "name": "python3"
  },
  "language_info": {
   "codemirror_mode": {
    "name": "ipython",
    "version": 3
   },
   "file_extension": ".py",
   "mimetype": "text/x-python",
   "name": "python",
   "nbconvert_exporter": "python",
   "pygments_lexer": "ipython3",
   "version": "3.8.3"
  }
 },
 "nbformat": 4,
 "nbformat_minor": 4
}
