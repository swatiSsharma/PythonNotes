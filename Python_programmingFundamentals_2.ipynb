{
 "cells": [
  {
   "cell_type": "markdown",
   "metadata": {},
   "source": [
    "# Python print() Function\n",
    "\n",
    "Print statement - args, end, sep"
   ]
  },
  {
   "cell_type": "code",
   "execution_count": 1,
   "metadata": {},
   "outputs": [
    {
     "name": "stdout",
     "output_type": "stream",
     "text": [
      "Hello World!\n"
     ]
    }
   ],
   "source": [
    "print(\"Hello World!\")"
   ]
  },
  {
   "cell_type": "code",
   "execution_count": 2,
   "metadata": {},
   "outputs": [
    {
     "name": "stdout",
     "output_type": "stream",
     "text": [
      "Hello World 2022 Year\n"
     ]
    }
   ],
   "source": [
    "print(\"Hello\",\"World\",\"2022\",\"Year\")"
   ]
  },
  {
   "cell_type": "code",
   "execution_count": 3,
   "metadata": {},
   "outputs": [
    {
     "name": "stdout",
     "output_type": "stream",
     "text": [
      "Python Programming\n",
      "Hi  There\n"
     ]
    }
   ],
   "source": [
    "print(\"Python Programming\")\n",
    "print(\"Hi\",\" There\") # extra space between hi and there ie 2 spaces"
   ]
  },
  {
   "cell_type": "markdown",
   "metadata": {},
   "source": [
    "sep\n",
    "\n",
    "- python print uses argument as sep which is by default is space.\n",
    "- sep also appears in d end?? No only between two values\n"
   ]
  },
  {
   "cell_type": "code",
   "execution_count": 4,
   "metadata": {},
   "outputs": [
    {
     "name": "stdout",
     "output_type": "stream",
     "text": [
      "Hello World 2022 Year\n",
      "\n",
      "Hello__World__2022__Year\n"
     ]
    }
   ],
   "source": [
    "print(\"Hello\",\"World\",\"2022\",\"Year\")\n",
    "print()\n",
    "print(\"Hello\",\"World\",\"2022\",\"Year\", sep = '__')"
   ]
  },
  {
   "cell_type": "markdown",
   "metadata": {},
   "source": [
    "end\n",
    "\n",
    "- python print uses argument as end which is by default is new line."
   ]
  },
  {
   "cell_type": "code",
   "execution_count": 5,
   "metadata": {},
   "outputs": [
    {
     "name": "stdout",
     "output_type": "stream",
     "text": [
      "Hello World 2022 Year\n",
      "\n",
      "Hello__World__2022__Year\n",
      "\n",
      "Hello__World__2022__Year@@@@Hello There\n",
      "Hello There\n"
     ]
    }
   ],
   "source": [
    "print(\"Hello\",\"World\",\"2022\",\"Year\")\n",
    "print()\n",
    "print(\"Hello\",\"World\",\"2022\",\"Year\", sep = '__')\n",
    "print()\n",
    "print(\"Hello\",\"World\",\"2022\",\"Year\", sep = '__', end = '@@@@')\n",
    "print(\"Hello\",\"There\")\n",
    "\n",
    "print(\"Hello\",\"There\")"
   ]
  },
  {
   "cell_type": "markdown",
   "metadata": {},
   "source": [
    "# Multi line string"
   ]
  },
  {
   "cell_type": "code",
   "execution_count": 6,
   "metadata": {},
   "outputs": [
    {
     "name": "stdout",
     "output_type": "stream",
     "text": [
      "Hello World Hello There <class 'str'> Python\n"
     ]
    }
   ],
   "source": [
    "a = \"Hello World\"\n",
    "b = \"Hello There\"\n",
    "\n",
    "print(a,b,type(a),\"Python\")"
   ]
  },
  {
   "cell_type": "code",
   "execution_count": 7,
   "metadata": {},
   "outputs": [
    {
     "name": "stdout",
     "output_type": "stream",
     "text": [
      "The French Revolutionary Wars (French: Guerres de la Révolution française) were a series of sweeping military conflicts lasting from 1792 until 1802 and resulting from the French Revolution. They pitted France against Great Britain, Austria, the Holy Roman Empire, Prussia, Russia, and several other monarchies. They are divided in two periods: the War of the First Coalition (1792–97) and the War of the Second Coalition (1798–1802). Initially confined to Europe, the fighting gradually assumed a global dimension. After a decade of constant warfare and aggressive diplomacy, France had conquered territories in the Italian Peninsula, the Low Countries and the Rhineland in Europe and abandoned Louisiana in North America. French success in these conflicts ensured the spread of revolutionary principles over much of Europe.\n",
      "\n",
      "As early as 1791, the other monarchies of Europe looked with outrage at the revolution and its upheavals; and they considered whether they should intervene, either in support of King Louis XVI, to prevent the spread of revolution, or to take advantage of the chaos in France. Austria stationed significant troops on its French border and together with Prussia, issued the Declaration of Pillnitz, which threatened severe consequences should anything happen to King Louis XVI and Queen Marie-Antoinette. After Austria refused to recall its troops from the French border and to back down on the perceived threat of using force, France declared war on Austria and Prussia in the spring of 1792; both countries responded with a coordinated invasion that was eventually turned back at the Battle of Valmy in September. This victory emboldened the National Convention to abolish the monarchy.[4] A series of victories by the new French armies abruptly ended with defeat at Neerwinden in the spring of 1793. The French suffered additional defeats in the remainder of the year and these difficult times allowed the Jacobins to rise to power and impose the Reign of Terror to unify the nation.\n",
      "\n",
      "In 1794, the situation improved dramatically for the French as huge victories at Fleurus against the Austrians and at the Black Mountain against the Spanish signaled the start of a new stage in the wars. By 1795, the French had captured the Austrian Netherlands and the Dutch Republic. The French also put Spain and Prussia out of the war with the Peace of Basel. A hitherto unknown general named Napoleon Bonaparte began his first campaign in Italy in April 1796. In less than a year, French armies under Napoleon decimated the Habsburg forces and evicted them from the Italian peninsula, winning almost every battle and capturing 150,000 prisoners. With French forces marching towards Vienna, the Austrians sued for peace and agreed to the Treaty of Campo Formio, ending the First Coalition against the Republic.\n",
      "\n",
      "The War of the Second Coalition began in 1798 with the French invasion of Egypt, headed by Napoleon. The Allies took the opportunity presented by the French effort in the Middle East to regain territories lost from the First Coalition. The war began well for the Allies in Europe, where they gradually pushed the French out of Italy and invaded Switzerland – racking up victories at Magnano, Cassano and Novi along the way. However, their efforts largely unraveled with the French victory at Zurich in September 1799, which caused Russia to drop out of the war.[5] Meanwhile, Napoleon's forces annihilated a series of Egyptian and Ottoman armies at the battles of the Pyramids, Mount Tabor and Abukir. These victories in Egypt further enhanced Napoleon's popularity back in France, and he returned in triumph in the fall of 1799, though the Egyptian Campaign ultimately ended in failure. Furthermore, the Royal Navy had won the Battle of the Nile in 1798, further strengthening British control of the Mediterranean and weakening the French Navy.\n"
     ]
    }
   ],
   "source": [
    "# ''' ..... '''  or \"\"\" ....... \"\"\"\n",
    "\n",
    "print('''The French Revolutionary Wars (French: Guerres de la Révolution française) were a series of sweeping military conflicts lasting from 1792 until 1802 and resulting from the French Revolution. They pitted France against Great Britain, Austria, the Holy Roman Empire, Prussia, Russia, and several other monarchies. They are divided in two periods: the War of the First Coalition (1792–97) and the War of the Second Coalition (1798–1802). Initially confined to Europe, the fighting gradually assumed a global dimension. After a decade of constant warfare and aggressive diplomacy, France had conquered territories in the Italian Peninsula, the Low Countries and the Rhineland in Europe and abandoned Louisiana in North America. French success in these conflicts ensured the spread of revolutionary principles over much of Europe.\n",
    "\n",
    "As early as 1791, the other monarchies of Europe looked with outrage at the revolution and its upheavals; and they considered whether they should intervene, either in support of King Louis XVI, to prevent the spread of revolution, or to take advantage of the chaos in France. Austria stationed significant troops on its French border and together with Prussia, issued the Declaration of Pillnitz, which threatened severe consequences should anything happen to King Louis XVI and Queen Marie-Antoinette. After Austria refused to recall its troops from the French border and to back down on the perceived threat of using force, France declared war on Austria and Prussia in the spring of 1792; both countries responded with a coordinated invasion that was eventually turned back at the Battle of Valmy in September. This victory emboldened the National Convention to abolish the monarchy.[4] A series of victories by the new French armies abruptly ended with defeat at Neerwinden in the spring of 1793. The French suffered additional defeats in the remainder of the year and these difficult times allowed the Jacobins to rise to power and impose the Reign of Terror to unify the nation.\n",
    "\n",
    "In 1794, the situation improved dramatically for the French as huge victories at Fleurus against the Austrians and at the Black Mountain against the Spanish signaled the start of a new stage in the wars. By 1795, the French had captured the Austrian Netherlands and the Dutch Republic. The French also put Spain and Prussia out of the war with the Peace of Basel. A hitherto unknown general named Napoleon Bonaparte began his first campaign in Italy in April 1796. In less than a year, French armies under Napoleon decimated the Habsburg forces and evicted them from the Italian peninsula, winning almost every battle and capturing 150,000 prisoners. With French forces marching towards Vienna, the Austrians sued for peace and agreed to the Treaty of Campo Formio, ending the First Coalition against the Republic.\n",
    "\n",
    "The War of the Second Coalition began in 1798 with the French invasion of Egypt, headed by Napoleon. The Allies took the opportunity presented by the French effort in the Middle East to regain territories lost from the First Coalition. The war began well for the Allies in Europe, where they gradually pushed the French out of Italy and invaded Switzerland – racking up victories at Magnano, Cassano and Novi along the way. However, their efforts largely unraveled with the French victory at Zurich in September 1799, which caused Russia to drop out of the war.[5] Meanwhile, Napoleon's forces annihilated a series of Egyptian and Ottoman armies at the battles of the Pyramids, Mount Tabor and Abukir. These victories in Egypt further enhanced Napoleon's popularity back in France, and he returned in triumph in the fall of 1799, though the Egyptian Campaign ultimately ended in failure. Furthermore, the Royal Navy had won the Battle of the Nile in 1798, further strengthening British control of the Mediterranean and weakening the French Navy.''')"
   ]
  },
  {
   "cell_type": "code",
   "execution_count": 8,
   "metadata": {},
   "outputs": [
    {
     "data": {
      "text/plain": [
       "'\\n.........\\n   multi line comments\\n.........\\n'"
      ]
     },
     "execution_count": 8,
     "metadata": {},
     "output_type": "execute_result"
    }
   ],
   "source": [
    "# if we dont assign ''' ''' or \"\"\"\"\"\" and not assign that to a variable\n",
    "\n",
    "'''\n",
    ".........\n",
    "   multi line comments\n",
    ".........\n",
    "'''\n",
    "\n",
    "# CTRL + /  -- shortcut for comment\n",
    "# multi line comments dont exist in python\n",
    "\n",
    "# Does comments hold memory ?"
   ]
  },
  {
   "cell_type": "markdown",
   "metadata": {},
   "source": [
    "# Branching -- conditions or decision\n",
    "\n",
    "if , elif and else"
   ]
  },
  {
   "cell_type": "code",
   "execution_count": 9,
   "metadata": {},
   "outputs": [
    {
     "name": "stdout",
     "output_type": "stream",
     "text": [
      "78\n",
      "Eligibility age is between 75 and 100\n"
     ]
    }
   ],
   "source": [
    "age = int(input())\n",
    "\n",
    "if 100 > age > 75:\n",
    "    print(\"Eligibility age is between 75 and 100\")\n",
    "elif age >= 18:\n",
    "    print(\"Eligible to vote\")\n",
    "else:\n",
    "    print(\"Not eligible to vote\")"
   ]
  },
  {
   "cell_type": "code",
   "execution_count": 10,
   "metadata": {},
   "outputs": [
    {
     "name": "stdout",
     "output_type": "stream",
     "text": [
      "retired\n",
      "eligible to vote\n"
     ]
    }
   ],
   "source": [
    "age = 100\n",
    "if age >= 65:\n",
    "    print(\"retired\")\n",
    "if age < 0:\n",
    "    print(\"invalid date\")\n",
    "if age >= 18:\n",
    "    print(\"eligible to vote\")\n",
    "    \n",
    "# each if will be executed as a seperate block"
   ]
  },
  {
   "cell_type": "markdown",
   "metadata": {},
   "source": [
    "# Logical Operator"
   ]
  },
  {
   "cell_type": "code",
   "execution_count": 11,
   "metadata": {},
   "outputs": [
    {
     "name": "stdout",
     "output_type": "stream",
     "text": [
      "Allowed to login, Welcome\n"
     ]
    }
   ],
   "source": [
    "# And\n",
    "\n",
    "batch = 'python' \n",
    "org = \"scaler\"\n",
    "\n",
    "if org == \"scaler\" and batch == 'python':\n",
    "    print(\"Allowed to login, Welcome\")\n",
    "else:\n",
    "    print(\"Login denied!\")"
   ]
  },
  {
   "cell_type": "code",
   "execution_count": 12,
   "metadata": {},
   "outputs": [
    {
     "name": "stdout",
     "output_type": "stream",
     "text": [
      "Enter your organisation: Scaler\n",
      "Allowed to login, Welcome\n"
     ]
    }
   ],
   "source": [
    "org = input(\"Enter your organisation: \")\n",
    "\n",
    "if org == \"Scaler\" or org == \"Interviewbit\":\n",
    "    print(\"Allowed to login, Welcome\")\n",
    "else:\n",
    "    print(\"Login denied!\")"
   ]
  },
  {
   "cell_type": "code",
   "execution_count": 13,
   "metadata": {},
   "outputs": [
    {
     "name": "stdout",
     "output_type": "stream",
     "text": [
      "Enter your organisation: ABC\n",
      "Login denied!\n"
     ]
    }
   ],
   "source": [
    "org = input(\"Enter your organisation: \")\n",
    "\n",
    "if org == \"Scaler\" or org == \"Interviewbit\":\n",
    "    print(\"Allowed to login, Welcome\")\n",
    "else:\n",
    "    print(\"Login denied!\")"
   ]
  },
  {
   "cell_type": "markdown",
   "metadata": {},
   "source": [
    "# Looping -repetation "
   ]
  },
  {
   "cell_type": "code",
   "execution_count": 14,
   "metadata": {},
   "outputs": [
    {
     "name": "stdout",
     "output_type": "stream",
     "text": [
      "1 2 3 4 5 6 7 8 9 10 11 12 13 14 15 16 17 18 19 20 21 22 23 24 25 26 27 28 29 30 31 32 33 34 35 36 37 38 39 40 41 42 43 44 45 46 47 48 49 50 51 52 53 54 55 56 57 58 59 60 61 62 63 64 65 66 67 68 69 70 71 72 73 74 75 76 77 78 79 80 81 82 83 84 85 86 87 88 89 90 91 92 93 94 95 96 97 98 99 100 "
     ]
    }
   ],
   "source": [
    "# print 1 to 100\n",
    "\n",
    "counter = 1\n",
    "while counter<= 100:\n",
    "    print(counter, end = ' ')\n",
    "    counter += 1"
   ]
  },
  {
   "cell_type": "code",
   "execution_count": 15,
   "metadata": {},
   "outputs": [
    {
     "name": "stdout",
     "output_type": "stream",
     "text": [
      "1\n",
      "2\n",
      "3\n",
      "4\n",
      "5\n",
      "6\n",
      "7\n",
      "8\n",
      "9\n",
      "10\n"
     ]
    }
   ],
   "source": [
    "# print 1 to 10\n",
    "\n",
    "counter = 1\n",
    "while counter<= 10:\n",
    "    print(counter)\n",
    "    counter += 1"
   ]
  },
  {
   "cell_type": "markdown",
   "metadata": {},
   "source": [
    " # Print pattern\n",
    "    \n",
    "    *\n",
    "    **\n",
    "    ***\n",
    "    ****"
   ]
  },
  {
   "cell_type": "code",
   "execution_count": 16,
   "metadata": {},
   "outputs": [
    {
     "name": "stdout",
     "output_type": "stream",
     "text": [
      "10\n",
      "\n",
      "*\n",
      "**\n",
      "***\n",
      "****\n",
      "*****\n",
      "******\n",
      "*******\n",
      "********\n",
      "*********\n",
      "**********\n"
     ]
    }
   ],
   "source": [
    "n = int(input())\n",
    "i = 1\n",
    "\n",
    "print()\n",
    "\n",
    "# each iteration will print 1 row\n",
    "while i <= n:\n",
    "    print('*'*i)\n",
    "    i += 1\n"
   ]
  },
  {
   "cell_type": "markdown",
   "metadata": {},
   "source": [
    "#  Print pattern\n",
    "1 2 3 4\n",
    "1 2 3\n",
    "1 2\n",
    "1\n"
   ]
  },
  {
   "cell_type": "code",
   "execution_count": 18,
   "metadata": {},
   "outputs": [
    {
     "name": "stdout",
     "output_type": "stream",
     "text": [
      "1 2 3 4 \n",
      "1 2 3 \n",
      "1 2 \n",
      "1 \n"
     ]
    }
   ],
   "source": [
    "n = 4\n",
    "\n",
    "for i in range(n, 0, -1):\n",
    "    for j in range(1,i+1):\n",
    "        print(j, end = \" \")\n",
    "    print()"
   ]
  },
  {
   "cell_type": "markdown",
   "metadata": {},
   "source": [
    "# print pattern\n",
    "\n",
    "0 0 0 1 0 0 0\n",
    "0 0 2 3 2 0 0\n",
    "0 3 4 5 4 3 0\n",
    "4 5 6 7 6 5 4\n",
    "\n",
    "zero = N-i \n",
    "numbers = print an increasing sequence \n",
    "          start point row ie i\n",
    "          end point -- 2i - 1\n",
    "numbers = print decreasing sequence\n",
    "          start point   -- 2i -2 ( one less then end)\n",
    "          end point -- i\n",
    "zero = N-i\n"
   ]
  },
  {
   "cell_type": "code",
   "execution_count": 22,
   "metadata": {},
   "outputs": [
    {
     "name": "stdout",
     "output_type": "stream",
     "text": [
      "0 0 0 1 0 0 0  \n",
      "0 0 2 3 2 0 0  \n",
      "0 3 4 5 4 3 0  \n",
      "4 5 6 7 6 5 4  \n"
     ]
    }
   ],
   "source": [
    "n = 4\n",
    "for i in range(1, n+1):\n",
    "    # print n-i zeros\n",
    "    print(\"0 \"*(n-i), end = '')\n",
    "    \n",
    "    # increasing sequence\n",
    "    for j in range(i, 2*i):\n",
    "        print(j, end = \" \")\n",
    "    \n",
    "    # decreasing sequence\n",
    "    \n",
    "    for k in range(2*i-2,i-1,-1): # i -1\n",
    "        print(k, end = \" \")\n",
    "        \n",
    "    # print n-i zeros\n",
    "    \n",
    "    print(\"0 \"*(n-i), end = ' ')\n",
    "    print()\n",
    "        "
   ]
  },
  {
   "cell_type": "markdown",
   "metadata": {},
   "source": [
    "# Range Function"
   ]
  },
  {
   "cell_type": "code",
   "execution_count": 23,
   "metadata": {
    "scrolled": true
   },
   "outputs": [
    {
     "data": {
      "text/plain": [
       "'\\nthis method has 3 arguments : START, END and STEP\\n\\nStart - initial point , by default 0\\nEnd - ending point ie end number -1\\nStep - increment and decrement\\n'"
      ]
     },
     "execution_count": 23,
     "metadata": {},
     "output_type": "execute_result"
    }
   ],
   "source": [
    "# all numbers from 0 to 10\n",
    "\n",
    "range(11)\n",
    "\n",
    "'''\n",
    "this method has 3 arguments : START, END and STEP\n",
    "\n",
    "Start - initial point , by default 0\n",
    "End - ending point ie end number -1\n",
    "Step - increment and decrement\n",
    "'''\n"
   ]
  },
  {
   "cell_type": "code",
   "execution_count": 24,
   "metadata": {},
   "outputs": [
    {
     "data": {
      "text/plain": [
       "[0, 2, 4, 6, 8, 10]"
      ]
     },
     "execution_count": 24,
     "metadata": {},
     "output_type": "execute_result"
    }
   ],
   "source": [
    "# range of even numbers between 0 to 10\n",
    "\n",
    "list(range ( 0, 11, 2))"
   ]
  },
  {
   "cell_type": "code",
   "execution_count": 25,
   "metadata": {},
   "outputs": [
    {
     "data": {
      "text/plain": [
       "[0, 2, 4, 6, 8, 10]"
      ]
     },
     "execution_count": 25,
     "metadata": {},
     "output_type": "execute_result"
    }
   ],
   "source": [
    "# range of even numbers between 0 to 10\n",
    "\n",
    "list(range ( 0, 11, 2))"
   ]
  },
  {
   "cell_type": "code",
   "execution_count": 26,
   "metadata": {},
   "outputs": [
    {
     "data": {
      "text/plain": [
       "[1, 3, 5, 7, 9]"
      ]
     },
     "execution_count": 26,
     "metadata": {},
     "output_type": "execute_result"
    }
   ],
   "source": [
    "# range of odd numbers between 0 to 10\n",
    "\n",
    "list(range ( 1, 11, 2))"
   ]
  },
  {
   "cell_type": "code",
   "execution_count": 27,
   "metadata": {},
   "outputs": [
    {
     "data": {
      "text/plain": [
       "[]"
      ]
     },
     "execution_count": 27,
     "metadata": {},
     "output_type": "execute_result"
    }
   ],
   "source": [
    "list(range ( 0, 11, -2))\n",
    "\n",
    "# because of interger line ie numbering differene of 0 and 11"
   ]
  },
  {
   "cell_type": "markdown",
   "metadata": {},
   "source": [
    "# For Loop\n",
    "\n",
    "iterate over a range"
   ]
  },
  {
   "cell_type": "code",
   "execution_count": 28,
   "metadata": {},
   "outputs": [
    {
     "name": "stdout",
     "output_type": "stream",
     "text": [
      "1 3 5 7 9 "
     ]
    }
   ],
   "source": [
    "# print odd numbers from 1 to 10\n",
    "\n",
    "for i in range(1, 10, 2):\n",
    "    print(i, end = ' ')\n",
    "    "
   ]
  },
  {
   "cell_type": "code",
   "execution_count": 29,
   "metadata": {},
   "outputs": [
    {
     "name": "stdout",
     "output_type": "stream",
     "text": [
      "1  <class 'int'>\n",
      "9  <class 'int'>\n",
      "25  <class 'int'>\n",
      "49  <class 'int'>\n",
      "81  <class 'int'>\n"
     ]
    }
   ],
   "source": [
    "# square of odd numbers between 0 to 10\n",
    "\n",
    "for i in range(1, 10, 2):\n",
    "    print(i ** 2, end = '  ')\n",
    "    print(type(i))"
   ]
  },
  {
   "cell_type": "code",
   "execution_count": 30,
   "metadata": {},
   "outputs": [
    {
     "name": "stdout",
     "output_type": "stream",
     "text": [
      "Cubes of odd number from 1 to 10: \n",
      "729 343 125 27 1 \n",
      "\n",
      "Cubes of even number from 1 to 10: \n",
      "1000 512 216 64 8 "
     ]
    }
   ],
   "source": [
    "# reverse of odd number cubes from 1 to 10;\n",
    "\n",
    "print(\"Cubes of odd number from 1 to 10: \")\n",
    "for i in range(9,0,-2):\n",
    "    print(i ** 3, end = ' ')\n",
    "\n",
    "# reverse of even number cubes from 1 to 10;\n",
    "print(\"\\n\\nCubes of even number from 1 to 10: \")    \n",
    "for i in range(10,0,-2):\n",
    "    print(i ** 3, end = ' ')"
   ]
  },
  {
   "cell_type": "markdown",
   "metadata": {},
   "source": [
    "# Sum of digits"
   ]
  },
  {
   "cell_type": "code",
   "execution_count": 31,
   "metadata": {},
   "outputs": [
    {
     "name": "stdout",
     "output_type": "stream",
     "text": [
      "6789\n",
      "30\n"
     ]
    }
   ],
   "source": [
    "# solved using Number\n",
    "\n",
    "n = int(input())\n",
    "sum = 0\n",
    "\n",
    "# run the loop until user input is more than 0\n",
    "while n > 0:\n",
    "    digit = n % 10\n",
    "    n = n // 10\n",
    "    sum += digit\n",
    "\n",
    "print(sum)"
   ]
  },
  {
   "cell_type": "code",
   "execution_count": 32,
   "metadata": {},
   "outputs": [
    {
     "name": "stdout",
     "output_type": "stream",
     "text": [
      "34567\n",
      "25\n"
     ]
    }
   ],
   "source": [
    "# solved using string\n",
    "\n",
    "N = input(\"\")\n",
    "total = 0\n",
    "for i in range(len(N)):\n",
    "    total += int(N[i])\n",
    "print(total)"
   ]
  }
 ],
 "metadata": {
  "kernelspec": {
   "display_name": "Python 3",
   "language": "python",
   "name": "python3"
  },
  "language_info": {
   "codemirror_mode": {
    "name": "ipython",
    "version": 3
   },
   "file_extension": ".py",
   "mimetype": "text/x-python",
   "name": "python",
   "nbconvert_exporter": "python",
   "pygments_lexer": "ipython3",
   "version": "3.8.3"
  }
 },
 "nbformat": 4,
 "nbformat_minor": 4
}
